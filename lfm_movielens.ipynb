{
 "cells": [
  {
   "cell_type": "code",
   "execution_count": 1,
   "metadata": {},
   "outputs": [],
   "source": [
    "import numpy as np\n",
    "import pandas as pd\n",
    "import os\n",
    "import matplotlib.pyplot as plt\n",
    "from TutorML.decomposition import LFM "
   ]
  },
  {
   "cell_type": "code",
   "execution_count": 2,
   "metadata": {},
   "outputs": [],
   "source": [
    "def load_movielens(train_path, test_path, basedir=None):\n",
    "    if basedir:\n",
    "        train_path = os.path.join(basedir,train_path)\n",
    "        test_path = os.path.join(basedir,test_path)\n",
    "    col_names = ['user_id','item_id','score','timestamp']\n",
    "    use_cols = ['user_id','item_id','score']\n",
    "    df_train = pd.read_csv(train_path,sep='\\t',header=None,\n",
    "                           names=col_names,usecols=use_cols)\n",
    "    df_test = pd.read_csv(test_path,sep='\\t',header=None,\n",
    "                           names=col_names,usecols=use_cols)\n",
    "    df_train.user_id -= 1\n",
    "    df_train.item_id -= 1\n",
    "    df_test.user_id -= 1\n",
    "    df_test.item_id -=1\n",
    "    return df_train, df_test"
   ]
  },
  {
   "cell_type": "code",
   "execution_count": 3,
   "metadata": {},
   "outputs": [],
   "source": [
    "df_train, df_test = load_movielens(train_path='u1.base',test_path='u1.test',\n",
    "                                   basedir='ml-100k/')"
   ]
  },
  {
   "cell_type": "code",
   "execution_count": null,
   "metadata": {},
   "outputs": [],
   "source": []
  },
  {
   "cell_type": "code",
   "execution_count": 4,
   "metadata": {},
   "outputs": [],
   "source": [
    "data = pd.concat([df_train,df_test]).reset_index().drop('index',axis=1)\n",
    "n_users = data.user_id.nunique()\n",
    "n_items = data.item_id.nunique()\n",
    "train_idx = np.ravel_multi_index(df_train[['user_id','item_id']].values.T,\n",
    "                                 dims=(n_users,n_items))\n",
    "test_idx = np.ravel_multi_index(df_test[['user_id','item_id']].values.T,\n",
    "                                 dims=(n_users,n_items))"
   ]
  },
  {
   "cell_type": "code",
   "execution_count": 5,
   "metadata": {},
   "outputs": [],
   "source": [
    "X = np.zeros(shape=(n_users*n_items,))\n",
    "mask = np.zeros(shape=(n_users*n_items))\n",
    "\n",
    "X[train_idx] = df_train['score']\n",
    "mask[train_idx] = 1\n",
    "y_test = df_test.score.values.ravel()\n",
    "\n",
    "X = X.reshape((n_users,n_items))\n",
    "mask = mask.reshape((n_users, n_items))"
   ]
  },
  {
   "cell_type": "code",
   "execution_count": null,
   "metadata": {},
   "outputs": [],
   "source": []
  },
  {
   "cell_type": "code",
   "execution_count": 6,
   "metadata": {},
   "outputs": [],
   "source": [
    "\"\"\"\n",
    "if you want to increace number of factors, \n",
    "you should lower the learning rate too. otherwise nan or inf may appear\n",
    "\"\"\"\n",
    "lfm = LFM(n_factors=2,max_iter=1000,early_stopping=50,\n",
    "          learning_rate=1e-3,print_every=10)"
   ]
  },
  {
   "cell_type": "code",
   "execution_count": 7,
   "metadata": {},
   "outputs": [
    {
     "name": "stdout",
     "output_type": "stream",
     "text": [
      "[Iter 010] train mse: 1.2448    test mse: 1.4701\n",
      "[Iter 020] train mse: 0.9515    test mse: 1.0900\n",
      "[Iter 030] train mse: 0.8885    test mse: 1.0026\n",
      "[Iter 040] train mse: 0.8638    test mse: 0.9689\n",
      "[Iter 050] train mse: 0.8508    test mse: 0.9527\n",
      "[Iter 060] train mse: 0.8426    test mse: 0.9437\n",
      "[Iter 070] train mse: 0.8367    test mse: 0.9384\n",
      "[Iter 080] train mse: 0.8318    test mse: 0.9349\n",
      "[Iter 090] train mse: 0.8275    test mse: 0.9324\n",
      "[Iter 100] train mse: 0.8236    test mse: 0.9304\n",
      "[Iter 110] train mse: 0.8217    test mse: 0.9287\n",
      "[Iter 120] train mse: 0.8358    test mse: 0.9270\n",
      "[Iter 130] train mse: 0.9208    test mse: 0.9260\n",
      "[Iter 140] train mse: 0.9210    test mse: 0.9263\n",
      "[Iter 150] train mse: 0.8372    test mse: 0.9238\n",
      "[Iter 160] train mse: 0.8120    test mse: 0.9215\n",
      "[Iter 170] train mse: 0.8044    test mse: 0.9204\n",
      "[Iter 180] train mse: 0.8024    test mse: 0.9206\n",
      "[Iter 190] train mse: 0.8031    test mse: 0.9222\n",
      "[Iter 200] train mse: 0.8043    test mse: 0.9237\n",
      "[Iter 210] train mse: 0.8036    test mse: 0.9231\n",
      "[Iter 220] train mse: 0.7997    test mse: 0.9196\n",
      "[Iter 230] train mse: 0.7944    test mse: 0.9143\n",
      "[Iter 240] train mse: 0.7896    test mse: 0.9091\n",
      "[Iter 250] train mse: 0.7860    test mse: 0.9047\n",
      "[Iter 260] train mse: 0.7839    test mse: 0.9012\n",
      "[Iter 270] train mse: 0.7825    test mse: 0.8985\n",
      "[Iter 280] train mse: 0.7811    test mse: 0.8964\n",
      "[Iter 290] train mse: 0.7794    test mse: 0.8947\n",
      "[Iter 300] train mse: 0.7770    test mse: 0.8934\n",
      "[Iter 310] train mse: 0.7743    test mse: 0.8922\n",
      "[Iter 320] train mse: 0.7717    test mse: 0.8912\n",
      "[Iter 330] train mse: 0.7692    test mse: 0.8904\n",
      "[Iter 340] train mse: 0.7670    test mse: 0.8895\n",
      "[Iter 350] train mse: 0.7651    test mse: 0.8887\n",
      "[Iter 360] train mse: 0.7634    test mse: 0.8879\n",
      "[Iter 370] train mse: 0.7617    test mse: 0.8871\n",
      "[Iter 380] train mse: 0.7602    test mse: 0.8862\n",
      "[Iter 390] train mse: 0.7588    test mse: 0.8854\n",
      "[Iter 400] train mse: 0.7575    test mse: 0.8845\n",
      "[Iter 410] train mse: 0.7562    test mse: 0.8838\n",
      "[Iter 420] train mse: 0.7551    test mse: 0.8830\n",
      "[Iter 430] train mse: 0.7540    test mse: 0.8823\n",
      "[Iter 440] train mse: 0.7531    test mse: 0.8817\n",
      "[Iter 450] train mse: 0.7522    test mse: 0.8812\n",
      "[Iter 460] train mse: 0.7513    test mse: 0.8806\n",
      "[Iter 470] train mse: 0.7506    test mse: 0.8802\n",
      "[Iter 480] train mse: 0.7499    test mse: 0.8798\n",
      "[Iter 490] train mse: 0.7493    test mse: 0.8794\n",
      "[Iter 500] train mse: 0.7487    test mse: 0.8790\n",
      "[Iter 510] train mse: 0.7481    test mse: 0.8787\n",
      "[Iter 520] train mse: 0.7476    test mse: 0.8784\n",
      "[Iter 530] train mse: 0.7472    test mse: 0.8782\n",
      "[Iter 540] train mse: 0.7468    test mse: 0.8779\n",
      "[Iter 550] train mse: 0.7464    test mse: 0.8777\n",
      "[Iter 560] train mse: 0.7460    test mse: 0.8775\n",
      "[Iter 570] train mse: 0.7457    test mse: 0.8774\n",
      "[Iter 580] train mse: 0.7453    test mse: 0.8772\n",
      "[Iter 590] train mse: 0.7450    test mse: 0.8770\n",
      "[Iter 600] train mse: 0.7448    test mse: 0.8769\n",
      "[Iter 610] train mse: 0.7445    test mse: 0.8768\n",
      "[Iter 620] train mse: 0.7443    test mse: 0.8767\n",
      "[Iter 630] train mse: 0.7441    test mse: 0.8766\n",
      "[Iter 640] train mse: 0.7439    test mse: 0.8765\n",
      "[Iter 650] train mse: 0.7437    test mse: 0.8764\n",
      "[Iter 660] train mse: 0.7435    test mse: 0.8763\n",
      "[Iter 670] train mse: 0.7433    test mse: 0.8762\n",
      "[Iter 680] train mse: 0.7432    test mse: 0.8762\n",
      "[Iter 690] train mse: 0.7430    test mse: 0.8761\n",
      "[Iter 700] train mse: 0.7429    test mse: 0.8761\n",
      "[Iter 710] train mse: 0.7428    test mse: 0.8760\n",
      "[Iter 720] train mse: 0.7426    test mse: 0.8760\n",
      "[Iter 730] train mse: 0.7425    test mse: 0.8759\n",
      "[Iter 740] train mse: 0.7424    test mse: 0.8759\n",
      "[Iter 750] train mse: 0.7423    test mse: 0.8759\n",
      "[Iter 760] train mse: 0.7422    test mse: 0.8759\n",
      "[Iter 770] train mse: 0.7421    test mse: 0.8758\n",
      "[Iter 780] train mse: 0.7420    test mse: 0.8758\n",
      "[Iter 790] train mse: 0.7419    test mse: 0.8758\n",
      "[Iter 800] train mse: 0.7419    test mse: 0.8758\n",
      "[Iter 810] train mse: 0.7418    test mse: 0.8758\n",
      "[Iter 820] train mse: 0.7417    test mse: 0.8758\n",
      "[Iter 830] train mse: 0.7416    test mse: 0.8758\n",
      "[Iter 840] train mse: 0.7416    test mse: 0.8758\n",
      "[Iter 850] train mse: 0.7415    test mse: 0.8758\n",
      "[Iter 860] train mse: 0.7415    test mse: 0.8758\n",
      "[Iter 870] train mse: 0.7414    test mse: 0.8758\n",
      "[Iter 880] train mse: 0.7413    test mse: 0.8758\n",
      "[EarlyStop] best test mse at iter 837: 0.8758\n"
     ]
    }
   ],
   "source": [
    "lfm.fit(X,mask,test_data=(test_idx,y_test))"
   ]
  },
  {
   "cell_type": "code",
   "execution_count": 8,
   "metadata": {},
   "outputs": [
    {
     "data": {
      "image/png": "[encoded data removed]",
      "text/plain": [
       "<Figure size 864x288 with 2 Axes>"
      ]
     },
     "metadata": {},
     "output_type": "display_data"
    }
   ],
   "source": [
    "n_iters = lfm.n_iters\n",
    "start_it = 10\n",
    "plt.figure(figsize=(12,4))\n",
    "plt.subplot(121)\n",
    "plt.plot(range(start_it,n_iters), lfm.mse_history[start_it:,0],label='train mse')\n",
    "plt.plot(range(start_it,n_iters), lfm.mse_history[start_it:,1],label='test mse')\n",
    "plt.title('LFM model')\n",
    "plt.legend()\n",
    "plt.xlabel('iter')\n",
    "start_it = 50\n",
    "plt.subplot(122)\n",
    "plt.plot(range(start_it,n_iters), lfm.mse_history[start_it:,0],label='train mse')\n",
    "plt.plot(range(start_it,n_iters), lfm.mse_history[start_it:,1],label='test mse')\n",
    "plt.title('local plot')\n",
    "plt.legend()\n",
    "plt.xlabel('iter')\n",
    "plt.show()"
   ]
  },
  {
   "cell_type": "code",
   "execution_count": null,
   "metadata": {},
   "outputs": [],
   "source": []
  },
  {
   "cell_type": "code",
   "execution_count": null,
   "metadata": {},
   "outputs": [],
   "source": []
  },
  {
   "cell_type": "code",
   "execution_count": null,
   "metadata": {},
   "outputs": [],
   "source": []
  }
 ],
 "metadata": {
  "kernelspec": {
   "display_name": "Python 3",
   "language": "python",
   "name": "python3"
  },
  "language_info": {
   "codemirror_mode": {
    "name": "ipython",
    "version": 3
   },
   "file_extension": ".py",
   "mimetype": "text/x-python",
   "name": "python",
   "nbconvert_exporter": "python",
   "pygments_lexer": "ipython3",
   "version": "3.6.6"
  }
 },
 "nbformat": 4,
 "nbformat_minor": 2
}
