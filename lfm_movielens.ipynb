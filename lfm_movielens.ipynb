{
 "cells": [
  {
   "cell_type": "code",
   "execution_count": 1,
   "metadata": {},
   "outputs": [],
   "source": [
    "import numpy as np\n",
    "import pandas as pd\n",
    "import os\n",
    "import matplotlib.pyplot as plt\n",
    "from TutorML.decomposition import LFM "
   ]
  },
  {
   "cell_type": "code",
   "execution_count": 2,
   "metadata": {},
   "outputs": [],
   "source": [
    "def load_movielens(train_path, test_path, basedir=None):\n",
    "    if basedir:\n",
    "        train_path = os.path.join(basedir,train_path)\n",
    "        test_path = os.path.join(basedir,test_path)\n",
    "    col_names = ['user_id','item_id','score','timestamp']\n",
    "    use_cols = ['user_id','item_id','score']\n",
    "    df_train = pd.read_csv(train_path,sep='\\t',header=None,\n",
    "                           names=col_names,usecols=use_cols)\n",
    "    df_test = pd.read_csv(test_path,sep='\\t',header=None,\n",
    "                           names=col_names,usecols=use_cols)\n",
    "    df_train.user_id -= 1\n",
    "    df_train.item_id -= 1\n",
    "    df_test.user_id -= 1\n",
    "    df_test.item_id -=1\n",
    "    return df_train, df_test"
   ]
  },
  {
   "cell_type": "code",
   "execution_count": 3,
   "metadata": {},
   "outputs": [],
   "source": [
    "df_train, df_test = load_movielens(train_path='u1.base',test_path='u1.test',\n",
    "                                   basedir='ml-100k/')"
   ]
  },
  {
   "cell_type": "code",
   "execution_count": null,
   "metadata": {},
   "outputs": [],
   "source": []
  },
  {
   "cell_type": "code",
   "execution_count": 4,
   "metadata": {},
   "outputs": [],
   "source": [
    "data = pd.concat([df_train,df_test]).reset_index().drop('index',axis=1)\n",
    "n_users = data.user_id.nunique()\n",
    "n_items = data.item_id.nunique()\n",
    "train_idx = np.ravel_multi_index(df_train[['user_id','item_id']].values.T,\n",
    "                                 dims=(n_users,n_items))\n",
    "test_idx = np.ravel_multi_index(df_test[['user_id','item_id']].values.T,\n",
    "                                 dims=(n_users,n_items))"
   ]
  },
  {
   "cell_type": "code",
   "execution_count": 5,
   "metadata": {},
   "outputs": [],
   "source": [
    "X = np.zeros(shape=(n_users*n_items,))\n",
    "mask = np.zeros(shape=(n_users*n_items))\n",
    "\n",
    "X[train_idx] = df_train['score']\n",
    "mask[train_idx] = 1\n",
    "y_test = df_test.score.values.ravel()\n",
    "\n",
    "X = X.reshape((n_users,n_items))\n",
    "mask = mask.reshape((n_users, n_items))"
   ]
  },
  {
   "cell_type": "code",
   "execution_count": null,
   "metadata": {},
   "outputs": [],
   "source": []
  },
  {
   "cell_type": "code",
   "execution_count": 25,
   "metadata": {},
   "outputs": [],
   "source": [
    "\"\"\"\n",
    "if you want to increace number of factors, \n",
    "you should lower the learning rate too. otherwise nan or inf may appear\n",
    "\"\"\"\n",
    "lfm = LFM(n_factors=5,max_iter=1000,early_stopping=50,reg_lambda=2,\n",
    "          learning_rate=1e-3,print_every=20)"
   ]
  },
  {
   "cell_type": "code",
   "execution_count": 26,
   "metadata": {},
   "outputs": [
    {
     "name": "stdout",
     "output_type": "stream",
     "text": [
      "[Iter 020] train mse: 0.9766    test mse: 1.0839\n",
      "[Iter 040] train mse: 0.9299    test mse: 1.0321\n",
      "[Iter 060] train mse: 1.1823    test mse: 1.0349\n",
      "[Iter 080] train mse: 0.9006    test mse: 1.0224\n",
      "[Iter 100] train mse: 0.8708    test mse: 1.0178\n",
      "[Iter 120] train mse: 0.8476    test mse: 1.0146\n",
      "[Iter 140] train mse: 0.8296    test mse: 1.0103\n",
      "[Iter 160] train mse: 0.8122    test mse: 1.0048\n",
      "[Iter 180] train mse: 0.7957    test mse: 1.0030\n",
      "[Iter 200] train mse: 0.7841    test mse: 1.0063\n",
      "[Iter 220] train mse: 0.7733    test mse: 1.0010\n",
      "[Iter 240] train mse: 0.7665    test mse: 1.0022\n",
      "[Iter 260] train mse: 0.7593    test mse: 1.0025\n",
      "[Iter 280] train mse: 0.7530    test mse: 1.0050\n",
      "[EarlyStop] best test mse at iter 233: 1.0003\n"
     ]
    }
   ],
   "source": [
    "lfm.fit(X,mask,test_data=(test_idx,y_test))"
   ]
  },
  {
   "cell_type": "code",
   "execution_count": 28,
   "metadata": {},
   "outputs": [],
   "source": [
    "rounded_prediction_mse = lfm.mse_history"
   ]
  },
  {
   "cell_type": "code",
   "execution_count": 30,
   "metadata": {},
   "outputs": [
    {
     "name": "stdout",
     "output_type": "stream",
     "text": [
      "[Iter 020] train mse: 0.9552    test mse: 1.0978\n",
      "[Iter 040] train mse: 0.8654    test mse: 0.9728\n",
      "[Iter 060] train mse: 0.8435    test mse: 0.9464\n",
      "[Iter 080] train mse: 0.8326    test mse: 0.9375\n",
      "[Iter 100] train mse: 0.8249    test mse: 0.9334\n",
      "[Iter 120] train mse: 0.8458    test mse: 0.9309\n",
      "[Iter 140] train mse: 0.9049    test mse: 0.9312\n",
      "[Iter 160] train mse: 0.8134    test mse: 0.9275\n",
      "[Iter 180] train mse: 0.8055    test mse: 0.9278\n",
      "[Iter 200] train mse: 0.8077    test mse: 0.9314\n",
      "[Iter 220] train mse: 0.8017    test mse: 0.9261\n",
      "[Iter 240] train mse: 0.7911    test mse: 0.9149\n",
      "[Iter 260] train mse: 0.7857    test mse: 0.9070\n",
      "[Iter 280] train mse: 0.7829    test mse: 0.9021\n",
      "[Iter 300] train mse: 0.7783    test mse: 0.8990\n",
      "[Iter 320] train mse: 0.7729    test mse: 0.8968\n",
      "[Iter 340] train mse: 0.7684    test mse: 0.8950\n",
      "[Iter 360] train mse: 0.7648    test mse: 0.8932\n",
      "[Iter 380] train mse: 0.7617    test mse: 0.8912\n",
      "[Iter 400] train mse: 0.7589    test mse: 0.8892\n",
      "[Iter 420] train mse: 0.7565    test mse: 0.8874\n",
      "[Iter 440] train mse: 0.7544    test mse: 0.8858\n",
      "[Iter 460] train mse: 0.7526    test mse: 0.8844\n",
      "[Iter 480] train mse: 0.7511    test mse: 0.8833\n",
      "[Iter 500] train mse: 0.7499    test mse: 0.8823\n",
      "[Iter 520] train mse: 0.7488    test mse: 0.8815\n",
      "[Iter 540] train mse: 0.7478    test mse: 0.8807\n",
      "[Iter 560] train mse: 0.7470    test mse: 0.8801\n",
      "[Iter 580] train mse: 0.7463    test mse: 0.8796\n",
      "[Iter 600] train mse: 0.7456    test mse: 0.8791\n",
      "[Iter 620] train mse: 0.7451    test mse: 0.8787\n",
      "[Iter 640] train mse: 0.7446    test mse: 0.8783\n",
      "[Iter 660] train mse: 0.7442    test mse: 0.8780\n",
      "[Iter 680] train mse: 0.7438    test mse: 0.8777\n",
      "[Iter 700] train mse: 0.7435    test mse: 0.8774\n",
      "[Iter 720] train mse: 0.7432    test mse: 0.8772\n",
      "[Iter 740] train mse: 0.7429    test mse: 0.8770\n",
      "[Iter 760] train mse: 0.7427    test mse: 0.8769\n",
      "[Iter 780] train mse: 0.7425    test mse: 0.8767\n",
      "[Iter 800] train mse: 0.7423    test mse: 0.8766\n",
      "[Iter 820] train mse: 0.7421    test mse: 0.8765\n",
      "[Iter 840] train mse: 0.7419    test mse: 0.8764\n",
      "[Iter 860] train mse: 0.7418    test mse: 0.8764\n",
      "[Iter 880] train mse: 0.7416    test mse: 0.8763\n",
      "[Iter 900] train mse: 0.7415    test mse: 0.8763\n",
      "[Iter 920] train mse: 0.7414    test mse: 0.8763\n",
      "[Iter 940] train mse: 0.7413    test mse: 0.8762\n",
      "[Iter 960] train mse: 0.7412    test mse: 0.8762\n",
      "[Iter 980] train mse: 0.7411    test mse: 0.8762\n",
      "[Iter 1000] train mse: 0.7410    test mse: 0.8763\n"
     ]
    }
   ],
   "source": [
    "lfm = LFM(n_factors=2,max_iter=1000,early_stopping=50,reg_lambda=1,\n",
    "          round_prediction=False, learning_rate=1e-3,print_every=20)\n",
    "lfm.fit(X,mask,test_data=(test_idx,y_test))"
   ]
  },
  {
   "cell_type": "code",
   "execution_count": 31,
   "metadata": {},
   "outputs": [],
   "source": [
    "mse = lfm.mse_history"
   ]
  },
  {
   "cell_type": "code",
   "execution_count": 42,
   "metadata": {},
   "outputs": [
    {
     "data": {
      "image/png": "[encoded data removed]",
      "text/plain": [
       "<Figure size 864x288 with 2 Axes>"
      ]
     },
     "metadata": {},
     "output_type": "display_data"
    }
   ],
   "source": [
    "def plot(xy, start_it, title):\n",
    "    n_iters = xy.shape[0]\n",
    "    plt.plot(range(start_it,n_iters), xy[start_it:,0],label='train mse')\n",
    "    plt.plot(range(start_it,n_iters), xy[start_it:,1],label='test mse')\n",
    "    plt.title(title)\n",
    "    plt.legend()\n",
    "    plt.xlabel('iter')\n",
    "plt.figure(figsize=(12,4))\n",
    "plt.subplot(121)\n",
    "plot(rounded_prediction_mse, 20, 'Mse with prediction rounded')\n",
    "plt.subplot(122)\n",
    "plot(mse, 20, 'Mse with prediction unrounded')\n",
    "plt.show()"
   ]
  },
  {
   "cell_type": "code",
   "execution_count": null,
   "metadata": {},
   "outputs": [],
   "source": []
  },
  {
   "cell_type": "code",
   "execution_count": null,
   "metadata": {},
   "outputs": [],
   "source": []
  },
  {
   "cell_type": "code",
   "execution_count": null,
   "metadata": {},
   "outputs": [],
   "source": []
  }
 ],
 "metadata": {
  "kernelspec": {
   "display_name": "Python 3",
   "language": "python",
   "name": "python3"
  },
  "language_info": {
   "codemirror_mode": {
    "name": "ipython",
    "version": 3
   },
   "file_extension": ".py",
   "mimetype": "text/x-python",
   "name": "python",
   "nbconvert_exporter": "python",
   "pygments_lexer": "ipython3",
   "version": "3.6.6"
  }
 },
 "nbformat": 4,
 "nbformat_minor": 2
}
