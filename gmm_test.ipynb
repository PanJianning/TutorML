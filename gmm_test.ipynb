{
 "cells": [
  {
   "cell_type": "code",
   "execution_count": 39,
   "metadata": {},
   "outputs": [],
   "source": [
    "from TutorML.mixture import GaussianMixture\n",
    "import numpy as np\n",
    "from sklearn import datasets\n",
    "from sklearn.mixture import GaussianMixture as skGMM\n",
    "from sklearn.model_selection import StratifiedKFold"
   ]
  },
  {
   "cell_type": "code",
   "execution_count": 40,
   "metadata": {},
   "outputs": [],
   "source": [
    "iris = datasets.load_iris()\n",
    "skf = StratifiedKFold(n_splits=4)\n",
    "train_index, test_index = next(iter(skf.split(iris.data,iris.target)))"
   ]
  },
  {
   "cell_type": "code",
   "execution_count": 41,
   "metadata": {},
   "outputs": [],
   "source": [
    "X_train = iris.data[train_index]\n",
    "y_train = iris.target[train_index]\n",
    "X_test = iris.data[test_index]\n",
    "y_test = iris.target[test_index]\n",
    "n_classes = len(np.unique(y_train))"
   ]
  },
  {
   "cell_type": "code",
   "execution_count": 42,
   "metadata": {},
   "outputs": [],
   "source": [
    "means_init = np.array([X_train[y_train==i].mean(axis=0) for i in range(n_classes)])"
   ]
  },
  {
   "cell_type": "code",
   "execution_count": 43,
   "metadata": {},
   "outputs": [
    {
     "name": "stdout",
     "output_type": "stream",
     "text": [
      "sk acc 97.44%\n",
      "my acc 97.44%\n"
     ]
    }
   ],
   "source": [
    "skgmm = skGMM(n_components=n_classes,max_iter=20,random_state=0,\n",
    "#               init_params='random',\n",
    "              means_init=means_init) \n",
    "mygmm = GaussianMixture(n_components=n_classes,max_iter=20,random_state=0,\n",
    "#                         init_params='random',\n",
    "                        means_init=means_init)\n",
    "skgmm.fit(X_train)\n",
    "mygmm.fit(X_train)\n",
    "sk_pred = skgmm.predict(X_test)\n",
    "my_pred = mygmm.predict(X_test)\n",
    "sk_accuracy = np.mean(sk_pred.ravel() == y_test.ravel()) * 100\n",
    "my_accuracy = np.mean(my_pred.ravel() == y_test.ravel()) * 100\n",
    "print('sk acc %.2f%%' % sk_accuracy)\n",
    "print('my acc %.2f%%' % my_accuracy)"
   ]
  },
  {
   "cell_type": "code",
   "execution_count": 44,
   "metadata": {},
   "outputs": [],
   "source": [
    "X,y = mygmm.sample(n_samples=100)"
   ]
  },
  {
   "cell_type": "code",
   "execution_count": 45,
   "metadata": {},
   "outputs": [
    {
     "data": {
      "text/plain": [
       "-1.1282024674825575"
      ]
     },
     "execution_count": 45,
     "metadata": {},
     "output_type": "execute_result"
    }
   ],
   "source": [
    "mygmm.score(X)"
   ]
  }
 ],
 "metadata": {
  "kernelspec": {
   "display_name": "Python 3",
   "language": "python",
   "name": "python3"
  },
  "language_info": {
   "codemirror_mode": {
    "name": "ipython",
    "version": 3
   },
   "file_extension": ".py",
   "mimetype": "text/x-python",
   "name": "python",
   "nbconvert_exporter": "python",
   "pygments_lexer": "ipython3",
   "version": "3.6.6"
  }
 },
 "nbformat": 4,
 "nbformat_minor": 2
}
