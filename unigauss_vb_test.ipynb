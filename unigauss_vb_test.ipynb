{
 "cells": [
  {
   "cell_type": "code",
   "execution_count": 7,
   "metadata": {},
   "outputs": [],
   "source": [
    "import numpy as np\n",
    "from TutorML.demo.variational_bayes import UnivariateGaussianVB"
   ]
  },
  {
   "cell_type": "code",
   "execution_count": 16,
   "metadata": {},
   "outputs": [
    {
     "name": "stdout",
     "output_type": "stream",
     "text": [
      "\t\n"
     ]
    }
   ],
   "source": [
    "print('\t')"
   ]
  },
  {
   "cell_type": "code",
   "execution_count": 8,
   "metadata": {},
   "outputs": [],
   "source": [
    "mean = 66\n",
    "var = 23.3\n",
    "data = np.random.normal(loc=mean,scale=np.sqrt(var),size=10000)"
   ]
  },
  {
   "cell_type": "markdown",
   "metadata": {},
   "source": [
    "Given the prior\n",
    "$$p(\\mu,\\lambda) = N(\\mu|\\mu_0,(\\kappa_0\\lambda)^{-1})Gamma(\\lambda|a_0,b_0)$$\n",
    "and likelihood\n",
    "$$p(D|\\mu,\\lambda) \\sim N(D|\\mu,\\lambda^{-1})$$\n",
    "where $\\lambda$ is the precision, i.e. 1/variance\n",
    "\n",
    "we need to learn the posterior distribution\n",
    "$$p(\\mu,\\lambda|D)$$"
   ]
  },
  {
   "cell_type": "markdown",
   "metadata": {},
   "source": [
    "prior_mu: $\\mu_0$\n",
    "\n",
    "prior_a: $a_0$\n",
    "\n",
    "prior_b: $b_0$\n",
    "\n",
    "kappa: $\\kappa_0$\n"
   ]
  },
  {
   "cell_type": "code",
   "execution_count": 9,
   "metadata": {},
   "outputs": [],
   "source": [
    "gaussian_vb = UnivariateGaussianVB(prior_a=1.0, prior_b=1.0, prior_mu=1.0, \n",
    "                                   kappa=1.0,max_iter=50,tol=1e-6)"
   ]
  },
  {
   "cell_type": "code",
   "execution_count": 10,
   "metadata": {},
   "outputs": [],
   "source": [
    "gaussian_vb.fit(data)"
   ]
  },
  {
   "cell_type": "markdown",
   "metadata": {},
   "source": [
    "posterior $\\mu$"
   ]
  },
  {
   "cell_type": "code",
   "execution_count": 11,
   "metadata": {},
   "outputs": [
    {
     "name": "stdout",
     "output_type": "stream",
     "text": [
      "analytic posterior_mu: 65.9236\n",
      "variational bayes posterior_mu: (65.9172-0.0025, 65.9172+0.0025)\n"
     ]
    }
   ],
   "source": [
    "print(\"analytic posterior_mu: %.4f\" % np.mean(data))\n",
    "print(\"variational bayes posterior_mu: (%.4f-%.4f, %.4f+%.4f)\" % (gaussian_vb.post_mu, \n",
    "                                  1 / gaussian_vb.post_mu_precision,\n",
    "                                  gaussian_vb.post_mu,\n",
    "                                  1 / gaussian_vb.post_mu_precision))"
   ]
  },
  {
   "cell_type": "markdown",
   "metadata": {},
   "source": [
    "posterior $\\lambda$\n",
    "\n",
    "$$p(\\lambda|a,b)\\sim Gamma(\\lambda|a,b)$$"
   ]
  },
  {
   "cell_type": "code",
   "execution_count": 12,
   "metadata": {},
   "outputs": [
    {
     "name": "stdout",
     "output_type": "stream",
     "text": [
      "posterior lambda mean: 0.0401\n",
      "posterior lambda var: 0.0000\n",
      "lambda mean should be around 1/var: 0.0429\n"
     ]
    }
   ],
   "source": [
    "lambda_mean = gaussian_vb.post_a / gaussian_vb.post_b\n",
    "lambda_var = gaussian_vb.post_a / gaussian_vb.post_b**2\n",
    "print(\"posterior lambda mean: %.4f\" % lambda_mean)\n",
    "print(\"posterior lambda var: %.4f\" % lambda_var)\n",
    "print(\"lambda mean should be around 1/var: %.4f\" % (1/var))"
   ]
  },
  {
   "cell_type": "code",
   "execution_count": null,
   "metadata": {},
   "outputs": [],
   "source": []
  },
  {
   "cell_type": "code",
   "execution_count": null,
   "metadata": {},
   "outputs": [],
   "source": []
  },
  {
   "cell_type": "code",
   "execution_count": null,
   "metadata": {},
   "outputs": [],
   "source": []
  }
 ],
 "metadata": {
  "kernelspec": {
   "display_name": "Python 3",
   "language": "python",
   "name": "python3"
  },
  "language_info": {
   "codemirror_mode": {
    "name": "ipython",
    "version": 3
   },
   "file_extension": ".py",
   "mimetype": "text/x-python",
   "name": "python",
   "nbconvert_exporter": "python",
   "pygments_lexer": "ipython3",
   "version": "3.6.6"
  }
 },
 "nbformat": 4,
 "nbformat_minor": 2
}
